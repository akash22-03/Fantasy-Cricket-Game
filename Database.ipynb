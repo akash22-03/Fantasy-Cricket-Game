{
 "cells": [
  {
   "cell_type": "code",
   "execution_count": 1,
   "id": "b70f3249",
   "metadata": {},
   "outputs": [],
   "source": [
    "import sqlite3"
   ]
  },
  {
   "cell_type": "code",
   "execution_count": 2,
   "id": "415591b1",
   "metadata": {},
   "outputs": [],
   "source": [
    "cricket = sqlite3.connect(\"E:/Projects/DreamTeam/fantasycricket.db\")"
   ]
  },
  {
   "cell_type": "code",
   "execution_count": 3,
   "id": "70d106bc",
   "metadata": {},
   "outputs": [],
   "source": [
    "cur = cricket.cursor()"
   ]
  },
  {
   "cell_type": "code",
   "execution_count": 4,
   "id": "b6f48ea3",
   "metadata": {
    "scrolled": true
   },
   "outputs": [
    {
     "data": {
      "text/plain": [
       "<sqlite3.Cursor at 0x2836f9ee880>"
      ]
     },
     "execution_count": 4,
     "metadata": {},
     "output_type": "execute_result"
    }
   ],
   "source": [
    "cur.execute('''\n",
    "            CREATE TABLE match (\n",
    "                Player TEXT PRIMARY KEY,\n",
    "                Scored INTEGER,\n",
    "                Faced INTEGER,\n",
    "                Fours INTEGER,\n",
    "                Sixes INTEGER,\n",
    "                Bowled INTEGER,\n",
    "                Maiden INTEGER,\n",
    "                Given INTEGER,\n",
    "                Wkts INTEGER,\n",
    "                Catches INTEGER,\n",
    "                Stumping INTEGER,\n",
    "                RO INTEGER\n",
    "            );\n",
    "            ''')"
   ]
  },
  {
   "cell_type": "code",
   "execution_count": 6,
   "id": "ce0434f6",
   "metadata": {},
   "outputs": [],
   "source": [
    "cricket.commit()"
   ]
  },
  {
   "cell_type": "code",
   "execution_count": 7,
   "id": "6caed281",
   "metadata": {},
   "outputs": [
    {
     "data": {
      "text/plain": [
       "<sqlite3.Cursor at 0x2836f9ee880>"
      ]
     },
     "execution_count": 7,
     "metadata": {},
     "output_type": "execute_result"
    }
   ],
   "source": [
    "cur.execute(\"INSERT INTO match (Player, Scored, Faced, Fours, Sixes, Bowled, Maiden, Given, Wkts, Catches, Stumping, RO) VALUES ('Kohli',102,98,8,2,0,0,0,0,0,0,0);\")"
   ]
  },
  {
   "cell_type": "code",
   "execution_count": 8,
   "id": "8c7ff3e0",
   "metadata": {},
   "outputs": [
    {
     "data": {
      "text/plain": [
       "<sqlite3.Cursor at 0x2836f9ee880>"
      ]
     },
     "execution_count": 8,
     "metadata": {},
     "output_type": "execute_result"
    }
   ],
   "source": [
    "cur.execute(\"INSERT INTO match (Player, Scored, Faced, Fours, Sixes, Bowled, Maiden, Given, Wkts, Catches, Stumping, RO) VALUES ('Yuvraj',12,20,1,0,48,0,36,1,0,0,0);\")"
   ]
  },
  {
   "cell_type": "code",
   "execution_count": 9,
   "id": "6fae57e5",
   "metadata": {},
   "outputs": [
    {
     "data": {
      "text/plain": [
       "<sqlite3.Cursor at 0x2836f9ee880>"
      ]
     },
     "execution_count": 9,
     "metadata": {},
     "output_type": "execute_result"
    }
   ],
   "source": [
    "cur.execute(\"INSERT INTO match (Player, Scored, Faced, Fours, Sixes, Bowled, Maiden, Given, Wkts, Catches, Stumping, RO) VALUES ('Rahane',49,75,3,0,0,0,0,0,1,0,0);\")"
   ]
  },
  {
   "cell_type": "code",
   "execution_count": 10,
   "id": "960b933c",
   "metadata": {},
   "outputs": [
    {
     "data": {
      "text/plain": [
       "<sqlite3.Cursor at 0x2836f9ee880>"
      ]
     },
     "execution_count": 10,
     "metadata": {},
     "output_type": "execute_result"
    }
   ],
   "source": [
    "cur.execute(\"INSERT INTO match (Player, Scored, Faced, Fours, Sixes, Bowled, Maiden, Given, Wkts, Catches, Stumping, RO) VALUES ('Dhawan',32,35,4,0,0,0,0,0,0,0,0);\")"
   ]
  },
  {
   "cell_type": "code",
   "execution_count": 11,
   "id": "0a9fabf8",
   "metadata": {},
   "outputs": [
    {
     "data": {
      "text/plain": [
       "<sqlite3.Cursor at 0x2836f9ee880>"
      ]
     },
     "execution_count": 11,
     "metadata": {},
     "output_type": "execute_result"
    }
   ],
   "source": [
    "cur.execute(\"INSERT INTO match (Player, Scored, Faced, Fours, Sixes, Bowled, Maiden, Given, Wkts, Catches, Stumping, RO) VALUES ('Dhoni',56,45,3,1,0,0,0,0,3,2,0);\")"
   ]
  },
  {
   "cell_type": "code",
   "execution_count": 12,
   "id": "5d223b3d",
   "metadata": {},
   "outputs": [
    {
     "data": {
      "text/plain": [
       "<sqlite3.Cursor at 0x2836f9ee880>"
      ]
     },
     "execution_count": 12,
     "metadata": {},
     "output_type": "execute_result"
    }
   ],
   "source": [
    "cur.execute(\"INSERT INTO match (Player, Scored, Faced, Fours, Sixes, Bowled, Maiden, Given, Wkts, Catches, Stumping, RO) VALUES ('Axar',8,4,2,0,48,2,35,1,0,0,0);\")"
   ]
  },
  {
   "cell_type": "code",
   "execution_count": 13,
   "id": "ee6db682",
   "metadata": {},
   "outputs": [
    {
     "data": {
      "text/plain": [
       "<sqlite3.Cursor at 0x2836f9ee880>"
      ]
     },
     "execution_count": 13,
     "metadata": {},
     "output_type": "execute_result"
    }
   ],
   "source": [
    "cur.execute(\"INSERT INTO match (Player, Scored, Faced, Fours, Sixes, Bowled, Maiden, Given, Wkts, Catches, Stumping, RO) VALUES ('Pandya',42,36,3,3,30,0,25,0,1,0,0);\")"
   ]
  },
  {
   "cell_type": "code",
   "execution_count": 14,
   "id": "109bc157",
   "metadata": {},
   "outputs": [
    {
     "data": {
      "text/plain": [
       "<sqlite3.Cursor at 0x2836f9ee880>"
      ]
     },
     "execution_count": 14,
     "metadata": {},
     "output_type": "execute_result"
    }
   ],
   "source": [
    "cur.execute(\"INSERT INTO match (Player, Scored, Faced, Fours, Sixes, Bowled, Maiden, Given, Wkts, Catches, Stumping, RO) VALUES ('Jadeja',18,10,1,1,60,3,50,2,1,0,1);\")"
   ]
  },
  {
   "cell_type": "code",
   "execution_count": 15,
   "id": "160ec28e",
   "metadata": {},
   "outputs": [
    {
     "data": {
      "text/plain": [
       "<sqlite3.Cursor at 0x2836f9ee880>"
      ]
     },
     "execution_count": 15,
     "metadata": {},
     "output_type": "execute_result"
    }
   ],
   "source": [
    "cur.execute(\"INSERT INTO match (Player, Scored, Faced, Fours, Sixes, Bowled, Maiden, Given, Wkts, Catches, Stumping, RO) VALUES ('Kedar',65,60,7,0,24,0,24,0,0,0,0);\")"
   ]
  },
  {
   "cell_type": "code",
   "execution_count": 16,
   "id": "29d06960",
   "metadata": {},
   "outputs": [
    {
     "data": {
      "text/plain": [
       "<sqlite3.Cursor at 0x2836f9ee880>"
      ]
     },
     "execution_count": 16,
     "metadata": {},
     "output_type": "execute_result"
    }
   ],
   "source": [
    "cur.execute(\"INSERT INTO match (Player, Scored, Faced, Fours, Sixes, Bowled, Maiden, Given, Wkts, Catches, Stumping, RO) VALUES ('Ashwin',23,42,3,0,60,2,45,6,0,0,0);\")"
   ]
  },
  {
   "cell_type": "code",
   "execution_count": 17,
   "id": "0527d0ea",
   "metadata": {},
   "outputs": [],
   "source": [
    "cricket.commit()"
   ]
  },
  {
   "cell_type": "code",
   "execution_count": 18,
   "id": "5a739c02",
   "metadata": {},
   "outputs": [
    {
     "data": {
      "text/plain": [
       "<sqlite3.Cursor at 0x2836f9ee880>"
      ]
     },
     "execution_count": 18,
     "metadata": {},
     "output_type": "execute_result"
    }
   ],
   "source": [
    "cur.execute(\"INSERT INTO match (Player, Scored, Faced, Fours, Sixes, Bowled, Maiden, Given, Wkts, Catches, Stumping, RO) VALUES ('Umesh',0,0,0,0,54,0,50,4,1,0,0);\")"
   ]
  },
  {
   "cell_type": "code",
   "execution_count": 19,
   "id": "e6e9bcab",
   "metadata": {},
   "outputs": [
    {
     "data": {
      "text/plain": [
       "<sqlite3.Cursor at 0x2836f9ee880>"
      ]
     },
     "execution_count": 19,
     "metadata": {},
     "output_type": "execute_result"
    }
   ],
   "source": [
    "cur.execute(\"INSERT INTO match (Player, Scored, Faced, Fours, Sixes, Bowled, Maiden, Given, Wkts, Catches, Stumping, RO) VALUES ('Bumrah',0,0,0,0,60,2,49,1,0,0,0);\")"
   ]
  },
  {
   "cell_type": "code",
   "execution_count": 20,
   "id": "aaa9dc4a",
   "metadata": {},
   "outputs": [
    {
     "data": {
      "text/plain": [
       "<sqlite3.Cursor at 0x2836f9ee880>"
      ]
     },
     "execution_count": 20,
     "metadata": {},
     "output_type": "execute_result"
    }
   ],
   "source": [
    "cur.execute(\"INSERT INTO match (Player, Scored, Faced, Fours, Sixes, Bowled, Maiden, Given, Wkts, Catches, Stumping, RO) VALUES ('Bhuwaneshwar',15,12,2,0,60,1,46,2,0,0,0);\")"
   ]
  },
  {
   "cell_type": "code",
   "execution_count": 21,
   "id": "2c7d69fb",
   "metadata": {},
   "outputs": [
    {
     "data": {
      "text/plain": [
       "<sqlite3.Cursor at 0x2836f9ee880>"
      ]
     },
     "execution_count": 21,
     "metadata": {},
     "output_type": "execute_result"
    }
   ],
   "source": [
    "cur.execute(\"INSERT INTO match (Player, Scored, Faced, Fours, Sixes, Bowled, Maiden, Given, Wkts, Catches, Stumping, RO) VALUES ('Rohit',46,65,5,1,0,0,0,0,1,0,0);\")"
   ]
  },
  {
   "cell_type": "code",
   "execution_count": 22,
   "id": "04d97949",
   "metadata": {},
   "outputs": [
    {
     "data": {
      "text/plain": [
       "<sqlite3.Cursor at 0x2836f9ee880>"
      ]
     },
     "execution_count": 22,
     "metadata": {},
     "output_type": "execute_result"
    }
   ],
   "source": [
    "cur.execute(\"INSERT INTO match (Player, Scored, Faced, Fours, Sixes, Bowled, Maiden, Given, Wkts, Catches, Stumping, RO) VALUES ('Kartick',29,42,3,0,0,0,0,0,2,0,1);\")"
   ]
  },
  {
   "cell_type": "code",
   "execution_count": 24,
   "id": "ca03e72c",
   "metadata": {},
   "outputs": [],
   "source": [
    "cricket.commit()"
   ]
  },
  {
   "cell_type": "code",
   "execution_count": 27,
   "id": "80574296",
   "metadata": {},
   "outputs": [
    {
     "data": {
      "text/plain": [
       "<sqlite3.Cursor at 0x2836f9ee880>"
      ]
     },
     "execution_count": 27,
     "metadata": {},
     "output_type": "execute_result"
    }
   ],
   "source": [
    "cur.execute('''\n",
    "            CREATE TABLE stats (\n",
    "                Player TEXT,\n",
    "                Matches INTEGER,\n",
    "                Runs INTEGER,\n",
    "                Centuries INTEGER,\n",
    "                Half_Centuries INTEGER,\n",
    "                Value INTEGER,\n",
    "                Ctg TEXT,\n",
    "                CONSTRAINT FK_Player FOREIGN KEY(Player) REFERENCES match(Player)\n",
    "            );\n",
    "            ''')"
   ]
  },
  {
   "cell_type": "code",
   "execution_count": 28,
   "id": "860b30dd",
   "metadata": {},
   "outputs": [
    {
     "data": {
      "text/plain": [
       "<sqlite3.Cursor at 0x2836f9ee880>"
      ]
     },
     "execution_count": 28,
     "metadata": {},
     "output_type": "execute_result"
    }
   ],
   "source": [
    "cur.execute(\"PRAGMA FOREIGN_KEYS = ON\")"
   ]
  },
  {
   "cell_type": "code",
   "execution_count": 29,
   "id": "22fc5af9",
   "metadata": {},
   "outputs": [],
   "source": [
    "cricket.commit()"
   ]
  },
  {
   "cell_type": "code",
   "execution_count": 30,
   "id": "86ebb3f1",
   "metadata": {},
   "outputs": [
    {
     "data": {
      "text/plain": [
       "<sqlite3.Cursor at 0x2836f9ee880>"
      ]
     },
     "execution_count": 30,
     "metadata": {},
     "output_type": "execute_result"
    }
   ],
   "source": [
    "cur.execute(\"INSERT INTO stats (Player, Matches, Runs, Centuries, Half_Centuries, Value, Ctg) VALUES ('Kohli', 189,8257,20,43,120,'BAT')\")"
   ]
  },
  {
   "cell_type": "code",
   "execution_count": 31,
   "id": "1b1edfdf",
   "metadata": {},
   "outputs": [
    {
     "data": {
      "text/plain": [
       "<sqlite3.Cursor at 0x2836f9ee880>"
      ]
     },
     "execution_count": 31,
     "metadata": {},
     "output_type": "execute_result"
    }
   ],
   "source": [
    "cur.execute(\"INSERT INTO stats (Player, Matches, Runs, Centuries, Half_Centuries, Value, Ctg) VALUES ('Yuvraj',86,3589,10,21,100,'BAT')\")"
   ]
  },
  {
   "cell_type": "code",
   "execution_count": 32,
   "id": "d62d109a",
   "metadata": {},
   "outputs": [
    {
     "data": {
      "text/plain": [
       "<sqlite3.Cursor at 0x2836f9ee880>"
      ]
     },
     "execution_count": 32,
     "metadata": {},
     "output_type": "execute_result"
    }
   ],
   "source": [
    "cur.execute(\"INSERT INTO stats (Player, Matches, Runs, Centuries, Half_Centuries, Value, Ctg) VALUES ('Rahane',158,5435,11,31,100,'BAT')\")"
   ]
  },
  {
   "cell_type": "code",
   "execution_count": 33,
   "id": "f788a86b",
   "metadata": {},
   "outputs": [
    {
     "data": {
      "text/plain": [
       "<sqlite3.Cursor at 0x2836f9ee880>"
      ]
     },
     "execution_count": 33,
     "metadata": {},
     "output_type": "execute_result"
    }
   ],
   "source": [
    "cur.execute(\"INSERT INTO stats (Player, Matches, Runs, Centuries, Half_Centuries, Value, Ctg) VALUES ('Dhawan',25,565,2,1,85,'AR')\")"
   ]
  },
  {
   "cell_type": "code",
   "execution_count": 34,
   "id": "dcb7d76a",
   "metadata": {},
   "outputs": [
    {
     "data": {
      "text/plain": [
       "<sqlite3.Cursor at 0x2836f9ee880>"
      ]
     },
     "execution_count": 34,
     "metadata": {},
     "output_type": "execute_result"
    }
   ],
   "source": [
    "cur.execute(\"INSERT INTO stats (Player, Matches, Runs, Centuries, Half_Centuries, Value, Ctg) VALUES ('Dhoni',78,2573,3,19,75,'BAT')\")"
   ]
  },
  {
   "cell_type": "code",
   "execution_count": 35,
   "id": "948797f8",
   "metadata": {},
   "outputs": [
    {
     "data": {
      "text/plain": [
       "<sqlite3.Cursor at 0x2836f9ee880>"
      ]
     },
     "execution_count": 35,
     "metadata": {},
     "output_type": "execute_result"
    }
   ],
   "source": [
    "cur.execute(\"INSERT INTO stats (Player, Matches, Runs, Centuries, Half_Centuries, Value, Ctg) VALUES ('Axar',67,208,0,0,100,'BWL')\")"
   ]
  },
  {
   "cell_type": "code",
   "execution_count": 36,
   "id": "32e12b72",
   "metadata": {},
   "outputs": [
    {
     "data": {
      "text/plain": [
       "<sqlite3.Cursor at 0x2836f9ee880>"
      ]
     },
     "execution_count": 36,
     "metadata": {},
     "output_type": "execute_result"
    }
   ],
   "source": [
    "cur.execute(\"INSERT INTO stats (Player, Matches, Runs, Centuries, Half_Centuries, Value, Ctg) VALUES ('Pandya',70,77,0,0,75,'BWL')\")"
   ]
  },
  {
   "cell_type": "code",
   "execution_count": 37,
   "id": "d6394fcf",
   "metadata": {},
   "outputs": [
    {
     "data": {
      "text/plain": [
       "<sqlite3.Cursor at 0x2836f9ee880>"
      ]
     },
     "execution_count": 37,
     "metadata": {},
     "output_type": "execute_result"
    }
   ],
   "source": [
    "cur.execute(\"INSERT INTO stats (Player, Matches, Runs, Centuries, Half_Centuries, Value, Ctg) VALUES ('Jadeja',16,1,0,0,85,'BWL')\")"
   ]
  },
  {
   "cell_type": "code",
   "execution_count": 38,
   "id": "9eeb1557",
   "metadata": {},
   "outputs": [
    {
     "data": {
      "text/plain": [
       "<sqlite3.Cursor at 0x2836f9ee880>"
      ]
     },
     "execution_count": 38,
     "metadata": {},
     "output_type": "execute_result"
    }
   ],
   "source": [
    "cur.execute(\"INSERT INTO stats (Player, Matches, Runs, Centuries, Half_Centuries, Value, Ctg) VALUES ('Kedar',111,675,0,1,90,'BWL')\")"
   ]
  },
  {
   "cell_type": "code",
   "execution_count": 39,
   "id": "b71716ea",
   "metadata": {},
   "outputs": [
    {
     "data": {
      "text/plain": [
       "<sqlite3.Cursor at 0x2836f9ee880>"
      ]
     },
     "execution_count": 39,
     "metadata": {},
     "output_type": "execute_result"
    }
   ],
   "source": [
    "cur.execute(\"INSERT INTO stats (Player, Matches, Runs, Centuries, Half_Centuries, Value, Ctg) VALUES ('Ashwin',136,1914,0,10,100,'AR')\")"
   ]
  },
  {
   "cell_type": "code",
   "execution_count": 40,
   "id": "ac763b7e",
   "metadata": {},
   "outputs": [
    {
     "data": {
      "text/plain": [
       "<sqlite3.Cursor at 0x2836f9ee880>"
      ]
     },
     "execution_count": 40,
     "metadata": {},
     "output_type": "execute_result"
    }
   ],
   "source": [
    "cur.execute(\"INSERT INTO stats (Player, Matches, Runs, Centuries, Half_Centuries, Value, Ctg) VALUES ('Umesh',296,9496,10,64,110,'WK')\")"
   ]
  },
  {
   "cell_type": "code",
   "execution_count": 41,
   "id": "1468ea62",
   "metadata": {},
   "outputs": [
    {
     "data": {
      "text/plain": [
       "<sqlite3.Cursor at 0x2836f9ee880>"
      ]
     },
     "execution_count": 41,
     "metadata": {},
     "output_type": "execute_result"
    }
   ],
   "source": [
    "cur.execute(\"INSERT INTO stats (Player, Matches, Runs, Centuries, Half_Centuries, Value, Ctg) VALUES ('Bumrah',73,1365,0,8,60,'WK')\")"
   ]
  },
  {
   "cell_type": "code",
   "execution_count": 42,
   "id": "75bf1ce8",
   "metadata": {},
   "outputs": [
    {
     "data": {
      "text/plain": [
       "<sqlite3.Cursor at 0x2836f9ee880>"
      ]
     },
     "execution_count": 42,
     "metadata": {},
     "output_type": "execute_result"
    }
   ],
   "source": [
    "cur.execute(\"INSERT INTO stats (Player, Matches, Runs, Centuries, Half_Centuries, Value, Ctg) VALUES ('Bhuwaneshwar',17,289,0,2,75,'AR')\")"
   ]
  },
  {
   "cell_type": "code",
   "execution_count": 43,
   "id": "0fc0dad5",
   "metadata": {},
   "outputs": [
    {
     "data": {
      "text/plain": [
       "<sqlite3.Cursor at 0x2836f9ee880>"
      ]
     },
     "execution_count": 43,
     "metadata": {},
     "output_type": "execute_result"
    }
   ],
   "source": [
    "cur.execute(\"INSERT INTO stats (Player, Matches, Runs, Centuries, Half_Centuries, Value, Ctg) VALUES ('Rohit',304,8701,14,52,85,'BAT')\")"
   ]
  },
  {
   "cell_type": "code",
   "execution_count": 44,
   "id": "60d47a71",
   "metadata": {},
   "outputs": [
    {
     "data": {
      "text/plain": [
       "<sqlite3.Cursor at 0x2836f9ee880>"
      ]
     },
     "execution_count": 44,
     "metadata": {},
     "output_type": "execute_result"
    }
   ],
   "source": [
    "cur.execute(\"INSERT INTO stats (Player, Matches, Runs, Centuries, Half_Centuries, Value, Ctg) VALUES ('Kartick',11,111,0,0,75,'AR')\")"
   ]
  },
  {
   "cell_type": "code",
   "execution_count": 45,
   "id": "e3f6a25a",
   "metadata": {},
   "outputs": [],
   "source": [
    "cricket.commit()"
   ]
  },
  {
   "cell_type": "code",
   "execution_count": 46,
   "id": "121b29df",
   "metadata": {},
   "outputs": [
    {
     "data": {
      "text/plain": [
       "<sqlite3.Cursor at 0x2836f9ee880>"
      ]
     },
     "execution_count": 46,
     "metadata": {},
     "output_type": "execute_result"
    }
   ],
   "source": [
    "cur.execute('''\n",
    "            CREATE TABLE teams (\n",
    "                Name TEXT,\n",
    "                Palyers TEXT,\n",
    "                Value INTEGER\n",
    "            );\n",
    "            ''')"
   ]
  },
  {
   "cell_type": "code",
   "execution_count": 47,
   "id": "999aa690",
   "metadata": {},
   "outputs": [],
   "source": [
    "cricket.commit()"
   ]
  },
  {
   "cell_type": "code",
   "execution_count": 48,
   "id": "c975eaae",
   "metadata": {},
   "outputs": [],
   "source": [
    "cricket.close()"
   ]
  },
  {
   "cell_type": "code",
   "execution_count": null,
   "id": "e26dd0fc",
   "metadata": {},
   "outputs": [],
   "source": []
  }
 ],
 "metadata": {
  "kernelspec": {
   "display_name": "Python 3",
   "language": "python",
   "name": "python3"
  },
  "language_info": {
   "codemirror_mode": {
    "name": "ipython",
    "version": 3
   },
   "file_extension": ".py",
   "mimetype": "text/x-python",
   "name": "python",
   "nbconvert_exporter": "python",
   "pygments_lexer": "ipython3",
   "version": "3.8.8"
  }
 },
 "nbformat": 4,
 "nbformat_minor": 5
}
